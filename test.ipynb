{
 "cells": [
  {
   "cell_type": "code",
   "execution_count": 48,
   "metadata": {},
   "outputs": [],
   "source": [
    "import ephem\n",
    "import pandas as pd\n",
    "from datetime import datetime, timedelta\n",
    "import pytz\n"
   ]
  },
  {
   "cell_type": "code",
   "execution_count": 49,
   "metadata": {},
   "outputs": [],
   "source": [
    "def create_observer(date, lat, lon):\n",
    "    observer = ephem.Observer()\n",
    "    observer.date = date\n",
    "    observer.lat = lat\n",
    "    observer.lon = lon\n",
    "    observer.elevation = 0  # Set default elevation\n",
    "    return observer\n",
    "\n",
    "def get_astronomical_events(observer):\n",
    "    sun = ephem.Sun()\n",
    "\n",
    "    events = {\n",
    "        'next_sunrise': observer.next_rising(sun),\n",
    "        'next_sunset': observer.next_setting(sun),\n",
    "        'previous_sunrise': observer.previous_rising(sun),\n",
    "        'previous_sunset': observer.previous_setting(sun),\n",
    "    }\n",
    "\n",
    "    # Calculate civil twilight (dawn and dusk)\n",
    "    observer.horizon = '-6'  # Civil twilight horizon\n",
    "\n",
    "    twilight_events = {\n",
    "        'next_civil_dawn': observer.next_rising(sun, use_center=True),\n",
    "        'next_civil_dusk': observer.next_setting(sun, use_center=True),\n",
    "        'previous_civil_dawn': observer.previous_rising(sun, use_center=True),\n",
    "        'previous_civil_dusk': observer.previous_setting(sun, use_center=True),\n",
    "    }\n",
    "\n",
    "    events.update(twilight_events)\n",
    "\n",
    "    return events\n",
    "\n",
    "def julian_to_datetime(julian_date, timezone_obj):\n",
    "    # Convert Julian date to datetime in UTC\n",
    "    utc_dt = ephem.localtime(julian_date)\n",
    "    # Localize to the given timezone\n",
    "    return utc_dt.astimezone(timezone_obj)\n",
    "\n",
    "def create_dataframe(date, lat, lon, timezone):\n",
    "    observer = create_observer(date, lat, lon)\n",
    "    events = get_astronomical_events(observer)\n",
    "    \n",
    "    # Convert Julian dates to datetime in the specified timezone\n",
    "    timezone_obj = pytz.timezone(timezone)\n",
    "    events = {event: julian_to_datetime(time, timezone_obj) for event, time in events.items()}\n",
    "    \n",
    "    df = pd.DataFrame(events.items(), columns=['Event', 'DateTime'])\n",
    "    return df\n"
   ]
  },
  {
   "cell_type": "code",
   "execution_count": 50,
   "metadata": {},
   "outputs": [
    {
     "name": "stdout",
     "output_type": "stream",
     "text": [
      "                 Event                         DateTime\n",
      "0         next_sunrise 2024-07-21 15:13:11.220856+02:00\n",
      "1          next_sunset 2024-07-21 20:49:35.653021+02:00\n",
      "2     previous_sunrise 2024-07-20 15:15:56.827540+02:00\n",
      "3      previous_sunset 2024-07-20 20:46:43.831990+02:00\n",
      "4      next_civil_dawn 2024-07-21 14:05:08.185602+02:00\n",
      "5      next_civil_dusk 2024-07-21 21:57:40.923588+02:00\n",
      "6  previous_civil_dawn 2024-07-20 14:07:11.487474+02:00\n",
      "7  previous_civil_dusk 2024-07-20 21:55:31.368008+02:00\n"
     ]
    }
   ],
   "source": [
    "# Example usage\n",
    "latitude = 55.4199\n",
    "longitude = 11.5428\n",
    "timezone = 'Europe/Copenhagen'\n",
    "\n",
    "now = datetime.now(pytz.utc)\n",
    "\n",
    "df = create_dataframe(now, latitude, longitude, timezone)\n",
    "print(df)"
   ]
  },
  {
   "cell_type": "code",
   "execution_count": 51,
   "metadata": {},
   "outputs": [
    {
     "name": "stdout",
     "output_type": "stream",
     "text": [
      "                                            DateTime   simple_datetime\n",
      "Event                                                                 \n",
      "next_sunrise        2024-07-22 05:03:28.660949+02:00  05:03 22-07-2024\n",
      "next_sunset         2024-07-21 21:37:38.874402+02:00  21:37 21-07-2024\n",
      "previous_sunrise    2024-07-21 05:01:50.681545+02:00  05:01 21-07-2024\n",
      "previous_sunset     2024-07-20 21:39:11.471837+02:00  21:39 20-07-2024\n",
      "next_civil_dawn     2024-07-22 04:11:13.723053+02:00  04:11 22-07-2024\n",
      "next_civil_dusk     2024-07-21 22:29:52.953817+02:00  22:29 21-07-2024\n",
      "previous_civil_dawn 2024-07-21 04:09:09.987382+02:00  04:09 21-07-2024\n",
      "previous_civil_dusk 2024-07-20 22:31:51.351773+02:00  22:31 20-07-2024\n"
     ]
    }
   ],
   "source": [
    "import ephem\n",
    "import pandas as pd\n",
    "from datetime import datetime\n",
    "import pytz\n",
    "\n",
    "def create_observer(lat, lon, timezone):\n",
    "    # Set the location\n",
    "    observer = ephem.Observer()\n",
    "    observer.lat = str(latitude)\n",
    "    observer.lon = str(longitude)\n",
    "\n",
    "    # Set the timezone\n",
    "    timezone = 'Europe/Copenhagen'\n",
    "    timezone_obj = pytz.timezone(timezone)\n",
    "    observer.date = datetime.now(timezone_obj)\n",
    "\n",
    "    return observer\n",
    "\n",
    "def get_astronomical_events(observer):\n",
    "    sun = ephem.Sun()\n",
    "    events = {\n",
    "        'next_sunrise': observer.next_rising(sun).datetime().replace(tzinfo=pytz.UTC).astimezone(timezone_obj),\n",
    "        'next_sunset': observer.next_setting(sun).datetime().replace(tzinfo=pytz.UTC).astimezone(timezone_obj),\n",
    "        'previous_sunrise': observer.previous_rising(sun).datetime().replace(tzinfo=pytz.UTC).astimezone(timezone_obj),\n",
    "        'previous_sunset': observer.previous_setting(sun).datetime().replace(tzinfo=pytz.UTC).astimezone(timezone_obj),\n",
    "    }\n",
    "\n",
    "    # Calculate civil twilight (dawn and dusk)\n",
    "    observer.horizon = '-6'  # Civil twilight horizon\n",
    "\n",
    "    twilight_events = {\n",
    "        'next_civil_dawn': observer.next_rising(sun, use_center=True).datetime().replace(tzinfo=pytz.UTC).astimezone(timezone_obj),\n",
    "        'next_civil_dusk': observer.next_setting(sun, use_center=True).datetime().replace(tzinfo=pytz.UTC).astimezone(timezone_obj),\n",
    "        'previous_civil_dawn': observer.previous_rising(sun, use_center=True).datetime().replace(tzinfo=pytz.UTC).astimezone(timezone_obj),\n",
    "        'previous_civil_dusk': observer.previous_setting(sun, use_center=True).datetime().replace(tzinfo=pytz.UTC).astimezone(timezone_obj),\n",
    "    }\n",
    "\n",
    "    events.update(twilight_events)\n",
    "\n",
    "    return events\n",
    "\n",
    "def create_dataframe(lat, lon, timezone_str):\n",
    "    timezone_obj = pytz.timezone(timezone_str)\n",
    "    observer = create_observer(lat, lon, timezone_obj)\n",
    "    events = get_astronomical_events(observer)\n",
    "    \n",
    "    df = pd.DataFrame(events.items(), columns=['Event', 'DateTime']).set_index('Event')\n",
    "    df['simple_datetime']=df['DateTime'].dt.strftime('%H:%M %d-%m-%Y')\n",
    "    return df\n",
    "\n",
    "# Example usage\n",
    "latitude = 55.4199\n",
    "longitude = 11.5428\n",
    "timezone = 'Europe/Copenhagen'\n",
    "\n",
    "df = create_dataframe(latitude, longitude, timezone)\n",
    "print(df)\n"
   ]
  },
  {
   "cell_type": "code",
   "execution_count": 63,
   "metadata": {},
   "outputs": [],
   "source": [
    "def calculate_door_time(calculate_by=\"daily\", sunrise_offset=0, dusk_offset=0, fixed_open_hour=5, fixed_open_minute=0, fixed_close_hour=23, fixed_close_minute=0):\n",
    "    if calculate_by == \"daily\":\n",
    "        todays_info = create_dataframe(lat=latitude, lon=longitude, timezone_str=timezone)\n",
    "        door_open = todays_info.loc['next_sunrise','DateTime']- timedelta(minutes=sunrise_offset)\n",
    "        door_close = todays_info.loc['next_civil_dusk','DateTime']+timedelta(minutes=dusk_offset)\n",
    "    elif calculate_by == \"fixed\":\n",
    "        today = datetime.today()\n",
    "        # Create a new datetime object with today's date and the fixed hour\n",
    "        door_open = datetime(today.year, today.month, today.day, fixed_open_hour, fixed_open_minute)\n",
    "        door_close = datetime(today.year, today.month, today.day, fixed_close_hour, fixed_close_minute)\n",
    "        \n",
    "    return door_open, door_close \n",
    "\n"
   ]
  },
  {
   "cell_type": "code",
   "execution_count": 64,
   "metadata": {},
   "outputs": [
    {
     "data": {
      "text/plain": [
       "('2024-07-21T06', '2024-07-21T22')"
      ]
     },
     "execution_count": 64,
     "metadata": {},
     "output_type": "execute_result"
    }
   ],
   "source": [
    "calculate_door_time(calculate_by=\"fixed\", fixed_open_hour=6, fixed_close_hour=22)"
   ]
  },
  {
   "cell_type": "code",
   "execution_count": 65,
   "metadata": {},
   "outputs": [
    {
     "data": {
      "text/plain": [
       "Timestamp('2024-07-22 05:03:28.660949+0200', tz='Europe/Copenhagen')"
      ]
     },
     "execution_count": 65,
     "metadata": {},
     "output_type": "execute_result"
    }
   ],
   "source": [
    "df.loc['next_sunrise','DateTime']"
   ]
  },
  {
   "cell_type": "code",
   "execution_count": null,
   "metadata": {},
   "outputs": [],
   "source": []
  }
 ],
 "metadata": {
  "kernelspec": {
   "display_name": "robot",
   "language": "python",
   "name": "python3"
  },
  "language_info": {
   "codemirror_mode": {
    "name": "ipython",
    "version": 3
   },
   "file_extension": ".py",
   "mimetype": "text/x-python",
   "name": "python",
   "nbconvert_exporter": "python",
   "pygments_lexer": "ipython3",
   "version": "3.9.19"
  }
 },
 "nbformat": 4,
 "nbformat_minor": 2
}
